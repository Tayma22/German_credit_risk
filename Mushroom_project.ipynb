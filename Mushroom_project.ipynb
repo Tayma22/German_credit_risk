{
 "cells": [
  {
   "cell_type": "code",
   "execution_count": 13,
   "metadata": {},
   "outputs": [],
   "source": [
    "import pandas as pd\n",
    "import numpy as np\n",
    "import seaborn as sns\n",
    "from tensorflow import keras"
   ]
  },
  {
   "cell_type": "code",
   "execution_count": 14,
   "metadata": {},
   "outputs": [
    {
     "data": {
      "text/html": [
       "<div>\n",
       "<style scoped>\n",
       "    .dataframe tbody tr th:only-of-type {\n",
       "        vertical-align: middle;\n",
       "    }\n",
       "\n",
       "    .dataframe tbody tr th {\n",
       "        vertical-align: top;\n",
       "    }\n",
       "\n",
       "    .dataframe thead th {\n",
       "        text-align: right;\n",
       "    }\n",
       "</style>\n",
       "<table border=\"1\" class=\"dataframe\">\n",
       "  <thead>\n",
       "    <tr style=\"text-align: right;\">\n",
       "      <th></th>\n",
       "      <th>class</th>\n",
       "      <th>cap-shape</th>\n",
       "      <th>cap-surface</th>\n",
       "      <th>cap-color</th>\n",
       "      <th>bruises</th>\n",
       "      <th>odor</th>\n",
       "      <th>gill-attachment</th>\n",
       "      <th>gill-spacing</th>\n",
       "      <th>gill-size</th>\n",
       "      <th>gill-color</th>\n",
       "      <th>...</th>\n",
       "      <th>stalk-surface-below-ring</th>\n",
       "      <th>stalk-color-above-ring</th>\n",
       "      <th>stalk-color-below-ring</th>\n",
       "      <th>veil-type</th>\n",
       "      <th>veil-color</th>\n",
       "      <th>ring-number</th>\n",
       "      <th>ring-type</th>\n",
       "      <th>spore-print-color</th>\n",
       "      <th>population</th>\n",
       "      <th>habitat</th>\n",
       "    </tr>\n",
       "  </thead>\n",
       "  <tbody>\n",
       "    <tr>\n",
       "      <th>0</th>\n",
       "      <td>p</td>\n",
       "      <td>x</td>\n",
       "      <td>s</td>\n",
       "      <td>n</td>\n",
       "      <td>t</td>\n",
       "      <td>p</td>\n",
       "      <td>f</td>\n",
       "      <td>c</td>\n",
       "      <td>n</td>\n",
       "      <td>k</td>\n",
       "      <td>...</td>\n",
       "      <td>s</td>\n",
       "      <td>w</td>\n",
       "      <td>w</td>\n",
       "      <td>p</td>\n",
       "      <td>w</td>\n",
       "      <td>o</td>\n",
       "      <td>p</td>\n",
       "      <td>k</td>\n",
       "      <td>s</td>\n",
       "      <td>u</td>\n",
       "    </tr>\n",
       "    <tr>\n",
       "      <th>1</th>\n",
       "      <td>e</td>\n",
       "      <td>x</td>\n",
       "      <td>s</td>\n",
       "      <td>y</td>\n",
       "      <td>t</td>\n",
       "      <td>a</td>\n",
       "      <td>f</td>\n",
       "      <td>c</td>\n",
       "      <td>b</td>\n",
       "      <td>k</td>\n",
       "      <td>...</td>\n",
       "      <td>s</td>\n",
       "      <td>w</td>\n",
       "      <td>w</td>\n",
       "      <td>p</td>\n",
       "      <td>w</td>\n",
       "      <td>o</td>\n",
       "      <td>p</td>\n",
       "      <td>n</td>\n",
       "      <td>n</td>\n",
       "      <td>g</td>\n",
       "    </tr>\n",
       "    <tr>\n",
       "      <th>2</th>\n",
       "      <td>e</td>\n",
       "      <td>b</td>\n",
       "      <td>s</td>\n",
       "      <td>w</td>\n",
       "      <td>t</td>\n",
       "      <td>l</td>\n",
       "      <td>f</td>\n",
       "      <td>c</td>\n",
       "      <td>b</td>\n",
       "      <td>n</td>\n",
       "      <td>...</td>\n",
       "      <td>s</td>\n",
       "      <td>w</td>\n",
       "      <td>w</td>\n",
       "      <td>p</td>\n",
       "      <td>w</td>\n",
       "      <td>o</td>\n",
       "      <td>p</td>\n",
       "      <td>n</td>\n",
       "      <td>n</td>\n",
       "      <td>m</td>\n",
       "    </tr>\n",
       "    <tr>\n",
       "      <th>3</th>\n",
       "      <td>p</td>\n",
       "      <td>x</td>\n",
       "      <td>y</td>\n",
       "      <td>w</td>\n",
       "      <td>t</td>\n",
       "      <td>p</td>\n",
       "      <td>f</td>\n",
       "      <td>c</td>\n",
       "      <td>n</td>\n",
       "      <td>n</td>\n",
       "      <td>...</td>\n",
       "      <td>s</td>\n",
       "      <td>w</td>\n",
       "      <td>w</td>\n",
       "      <td>p</td>\n",
       "      <td>w</td>\n",
       "      <td>o</td>\n",
       "      <td>p</td>\n",
       "      <td>k</td>\n",
       "      <td>s</td>\n",
       "      <td>u</td>\n",
       "    </tr>\n",
       "    <tr>\n",
       "      <th>4</th>\n",
       "      <td>e</td>\n",
       "      <td>x</td>\n",
       "      <td>s</td>\n",
       "      <td>g</td>\n",
       "      <td>f</td>\n",
       "      <td>n</td>\n",
       "      <td>f</td>\n",
       "      <td>w</td>\n",
       "      <td>b</td>\n",
       "      <td>k</td>\n",
       "      <td>...</td>\n",
       "      <td>s</td>\n",
       "      <td>w</td>\n",
       "      <td>w</td>\n",
       "      <td>p</td>\n",
       "      <td>w</td>\n",
       "      <td>o</td>\n",
       "      <td>e</td>\n",
       "      <td>n</td>\n",
       "      <td>a</td>\n",
       "      <td>g</td>\n",
       "    </tr>\n",
       "  </tbody>\n",
       "</table>\n",
       "<p>5 rows × 23 columns</p>\n",
       "</div>"
      ],
      "text/plain": [
       "  class cap-shape cap-surface cap-color bruises odor gill-attachment  \\\n",
       "0     p         x           s         n       t    p               f   \n",
       "1     e         x           s         y       t    a               f   \n",
       "2     e         b           s         w       t    l               f   \n",
       "3     p         x           y         w       t    p               f   \n",
       "4     e         x           s         g       f    n               f   \n",
       "\n",
       "  gill-spacing gill-size gill-color  ... stalk-surface-below-ring  \\\n",
       "0            c         n          k  ...                        s   \n",
       "1            c         b          k  ...                        s   \n",
       "2            c         b          n  ...                        s   \n",
       "3            c         n          n  ...                        s   \n",
       "4            w         b          k  ...                        s   \n",
       "\n",
       "  stalk-color-above-ring stalk-color-below-ring veil-type veil-color  \\\n",
       "0                      w                      w         p          w   \n",
       "1                      w                      w         p          w   \n",
       "2                      w                      w         p          w   \n",
       "3                      w                      w         p          w   \n",
       "4                      w                      w         p          w   \n",
       "\n",
       "  ring-number ring-type spore-print-color population habitat  \n",
       "0           o         p                 k          s       u  \n",
       "1           o         p                 n          n       g  \n",
       "2           o         p                 n          n       m  \n",
       "3           o         p                 k          s       u  \n",
       "4           o         e                 n          a       g  \n",
       "\n",
       "[5 rows x 23 columns]"
      ]
     },
     "execution_count": 14,
     "metadata": {},
     "output_type": "execute_result"
    }
   ],
   "source": [
    "df = pd.read_csv('mushrooms.csv')\n",
    "df.head()"
   ]
  },
  {
   "cell_type": "code",
   "execution_count": 15,
   "metadata": {},
   "outputs": [
    {
     "name": "stdout",
     "output_type": "stream",
     "text": [
      "<class 'pandas.core.frame.DataFrame'>\n",
      "RangeIndex: 8124 entries, 0 to 8123\n",
      "Data columns (total 23 columns):\n",
      " #   Column                    Non-Null Count  Dtype \n",
      "---  ------                    --------------  ----- \n",
      " 0   class                     8124 non-null   object\n",
      " 1   cap-shape                 8124 non-null   object\n",
      " 2   cap-surface               8124 non-null   object\n",
      " 3   cap-color                 8124 non-null   object\n",
      " 4   bruises                   8124 non-null   object\n",
      " 5   odor                      8124 non-null   object\n",
      " 6   gill-attachment           8124 non-null   object\n",
      " 7   gill-spacing              8124 non-null   object\n",
      " 8   gill-size                 8124 non-null   object\n",
      " 9   gill-color                8124 non-null   object\n",
      " 10  stalk-shape               8124 non-null   object\n",
      " 11  stalk-root                8124 non-null   object\n",
      " 12  stalk-surface-above-ring  8124 non-null   object\n",
      " 13  stalk-surface-below-ring  8124 non-null   object\n",
      " 14  stalk-color-above-ring    8124 non-null   object\n",
      " 15  stalk-color-below-ring    8124 non-null   object\n",
      " 16  veil-type                 8124 non-null   object\n",
      " 17  veil-color                8124 non-null   object\n",
      " 18  ring-number               8124 non-null   object\n",
      " 19  ring-type                 8124 non-null   object\n",
      " 20  spore-print-color         8124 non-null   object\n",
      " 21  population                8124 non-null   object\n",
      " 22  habitat                   8124 non-null   object\n",
      "dtypes: object(23)\n",
      "memory usage: 1.4+ MB\n"
     ]
    }
   ],
   "source": [
    "df.info()"
   ]
  },
  {
   "cell_type": "code",
   "execution_count": 16,
   "metadata": {},
   "outputs": [
    {
     "data": {
      "text/plain": [
       "class                       0\n",
       "cap-shape                   0\n",
       "cap-surface                 0\n",
       "cap-color                   0\n",
       "bruises                     0\n",
       "odor                        0\n",
       "gill-attachment             0\n",
       "gill-spacing                0\n",
       "gill-size                   0\n",
       "gill-color                  0\n",
       "stalk-shape                 0\n",
       "stalk-root                  0\n",
       "stalk-surface-above-ring    0\n",
       "stalk-surface-below-ring    0\n",
       "stalk-color-above-ring      0\n",
       "stalk-color-below-ring      0\n",
       "veil-type                   0\n",
       "veil-color                  0\n",
       "ring-number                 0\n",
       "ring-type                   0\n",
       "spore-print-color           0\n",
       "population                  0\n",
       "habitat                     0\n",
       "dtype: int64"
      ]
     },
     "execution_count": 16,
     "metadata": {},
     "output_type": "execute_result"
    }
   ],
   "source": [
    "df.isnull().sum()"
   ]
  },
  {
   "cell_type": "code",
   "execution_count": 17,
   "metadata": {},
   "outputs": [
    {
     "data": {
      "text/plain": [
       "class\n",
       "e    4208\n",
       "p    3916\n",
       "Name: count, dtype: int64"
      ]
     },
     "execution_count": 17,
     "metadata": {},
     "output_type": "execute_result"
    }
   ],
   "source": [
    "df['class'].value_counts()"
   ]
  },
  {
   "cell_type": "code",
   "execution_count": 18,
   "metadata": {},
   "outputs": [
    {
     "data": {
      "text/plain": [
       "cap-color\n",
       "n    2284\n",
       "g    1840\n",
       "e    1500\n",
       "y    1072\n",
       "w    1040\n",
       "b     168\n",
       "p     144\n",
       "c      44\n",
       "u      16\n",
       "r      16\n",
       "Name: count, dtype: int64"
      ]
     },
     "execution_count": 18,
     "metadata": {},
     "output_type": "execute_result"
    }
   ],
   "source": [
    "df['cap-color'].value_counts()"
   ]
  },
  {
   "cell_type": "code",
   "execution_count": 19,
   "metadata": {},
   "outputs": [],
   "source": [
    "from sklearn.preprocessing import LabelEncoder\n",
    "le = LabelEncoder()"
   ]
  },
  {
   "cell_type": "code",
   "execution_count": 20,
   "metadata": {},
   "outputs": [],
   "source": [
    "for col in df.columns:\n",
    "    df[col] = le.fit_transform(df[col])"
   ]
  },
  {
   "cell_type": "code",
   "execution_count": 21,
   "metadata": {},
   "outputs": [
    {
     "data": {
      "text/html": [
       "<div>\n",
       "<style scoped>\n",
       "    .dataframe tbody tr th:only-of-type {\n",
       "        vertical-align: middle;\n",
       "    }\n",
       "\n",
       "    .dataframe tbody tr th {\n",
       "        vertical-align: top;\n",
       "    }\n",
       "\n",
       "    .dataframe thead th {\n",
       "        text-align: right;\n",
       "    }\n",
       "</style>\n",
       "<table border=\"1\" class=\"dataframe\">\n",
       "  <thead>\n",
       "    <tr style=\"text-align: right;\">\n",
       "      <th></th>\n",
       "      <th>class</th>\n",
       "      <th>cap-shape</th>\n",
       "      <th>cap-surface</th>\n",
       "      <th>cap-color</th>\n",
       "      <th>bruises</th>\n",
       "      <th>odor</th>\n",
       "      <th>gill-attachment</th>\n",
       "      <th>gill-spacing</th>\n",
       "      <th>gill-size</th>\n",
       "      <th>gill-color</th>\n",
       "      <th>...</th>\n",
       "      <th>stalk-surface-below-ring</th>\n",
       "      <th>stalk-color-above-ring</th>\n",
       "      <th>stalk-color-below-ring</th>\n",
       "      <th>veil-type</th>\n",
       "      <th>veil-color</th>\n",
       "      <th>ring-number</th>\n",
       "      <th>ring-type</th>\n",
       "      <th>spore-print-color</th>\n",
       "      <th>population</th>\n",
       "      <th>habitat</th>\n",
       "    </tr>\n",
       "  </thead>\n",
       "  <tbody>\n",
       "    <tr>\n",
       "      <th>0</th>\n",
       "      <td>1</td>\n",
       "      <td>5</td>\n",
       "      <td>2</td>\n",
       "      <td>4</td>\n",
       "      <td>1</td>\n",
       "      <td>6</td>\n",
       "      <td>1</td>\n",
       "      <td>0</td>\n",
       "      <td>1</td>\n",
       "      <td>4</td>\n",
       "      <td>...</td>\n",
       "      <td>2</td>\n",
       "      <td>7</td>\n",
       "      <td>7</td>\n",
       "      <td>0</td>\n",
       "      <td>2</td>\n",
       "      <td>1</td>\n",
       "      <td>4</td>\n",
       "      <td>2</td>\n",
       "      <td>3</td>\n",
       "      <td>5</td>\n",
       "    </tr>\n",
       "    <tr>\n",
       "      <th>1</th>\n",
       "      <td>0</td>\n",
       "      <td>5</td>\n",
       "      <td>2</td>\n",
       "      <td>9</td>\n",
       "      <td>1</td>\n",
       "      <td>0</td>\n",
       "      <td>1</td>\n",
       "      <td>0</td>\n",
       "      <td>0</td>\n",
       "      <td>4</td>\n",
       "      <td>...</td>\n",
       "      <td>2</td>\n",
       "      <td>7</td>\n",
       "      <td>7</td>\n",
       "      <td>0</td>\n",
       "      <td>2</td>\n",
       "      <td>1</td>\n",
       "      <td>4</td>\n",
       "      <td>3</td>\n",
       "      <td>2</td>\n",
       "      <td>1</td>\n",
       "    </tr>\n",
       "    <tr>\n",
       "      <th>2</th>\n",
       "      <td>0</td>\n",
       "      <td>0</td>\n",
       "      <td>2</td>\n",
       "      <td>8</td>\n",
       "      <td>1</td>\n",
       "      <td>3</td>\n",
       "      <td>1</td>\n",
       "      <td>0</td>\n",
       "      <td>0</td>\n",
       "      <td>5</td>\n",
       "      <td>...</td>\n",
       "      <td>2</td>\n",
       "      <td>7</td>\n",
       "      <td>7</td>\n",
       "      <td>0</td>\n",
       "      <td>2</td>\n",
       "      <td>1</td>\n",
       "      <td>4</td>\n",
       "      <td>3</td>\n",
       "      <td>2</td>\n",
       "      <td>3</td>\n",
       "    </tr>\n",
       "    <tr>\n",
       "      <th>3</th>\n",
       "      <td>1</td>\n",
       "      <td>5</td>\n",
       "      <td>3</td>\n",
       "      <td>8</td>\n",
       "      <td>1</td>\n",
       "      <td>6</td>\n",
       "      <td>1</td>\n",
       "      <td>0</td>\n",
       "      <td>1</td>\n",
       "      <td>5</td>\n",
       "      <td>...</td>\n",
       "      <td>2</td>\n",
       "      <td>7</td>\n",
       "      <td>7</td>\n",
       "      <td>0</td>\n",
       "      <td>2</td>\n",
       "      <td>1</td>\n",
       "      <td>4</td>\n",
       "      <td>2</td>\n",
       "      <td>3</td>\n",
       "      <td>5</td>\n",
       "    </tr>\n",
       "    <tr>\n",
       "      <th>4</th>\n",
       "      <td>0</td>\n",
       "      <td>5</td>\n",
       "      <td>2</td>\n",
       "      <td>3</td>\n",
       "      <td>0</td>\n",
       "      <td>5</td>\n",
       "      <td>1</td>\n",
       "      <td>1</td>\n",
       "      <td>0</td>\n",
       "      <td>4</td>\n",
       "      <td>...</td>\n",
       "      <td>2</td>\n",
       "      <td>7</td>\n",
       "      <td>7</td>\n",
       "      <td>0</td>\n",
       "      <td>2</td>\n",
       "      <td>1</td>\n",
       "      <td>0</td>\n",
       "      <td>3</td>\n",
       "      <td>0</td>\n",
       "      <td>1</td>\n",
       "    </tr>\n",
       "  </tbody>\n",
       "</table>\n",
       "<p>5 rows × 23 columns</p>\n",
       "</div>"
      ],
      "text/plain": [
       "   class  cap-shape  cap-surface  cap-color  bruises  odor  gill-attachment  \\\n",
       "0      1          5            2          4        1     6                1   \n",
       "1      0          5            2          9        1     0                1   \n",
       "2      0          0            2          8        1     3                1   \n",
       "3      1          5            3          8        1     6                1   \n",
       "4      0          5            2          3        0     5                1   \n",
       "\n",
       "   gill-spacing  gill-size  gill-color  ...  stalk-surface-below-ring  \\\n",
       "0             0          1           4  ...                         2   \n",
       "1             0          0           4  ...                         2   \n",
       "2             0          0           5  ...                         2   \n",
       "3             0          1           5  ...                         2   \n",
       "4             1          0           4  ...                         2   \n",
       "\n",
       "   stalk-color-above-ring  stalk-color-below-ring  veil-type  veil-color  \\\n",
       "0                       7                       7          0           2   \n",
       "1                       7                       7          0           2   \n",
       "2                       7                       7          0           2   \n",
       "3                       7                       7          0           2   \n",
       "4                       7                       7          0           2   \n",
       "\n",
       "   ring-number  ring-type  spore-print-color  population  habitat  \n",
       "0            1          4                  2           3        5  \n",
       "1            1          4                  3           2        1  \n",
       "2            1          4                  3           2        3  \n",
       "3            1          4                  2           3        5  \n",
       "4            1          0                  3           0        1  \n",
       "\n",
       "[5 rows x 23 columns]"
      ]
     },
     "execution_count": 21,
     "metadata": {},
     "output_type": "execute_result"
    }
   ],
   "source": [
    "df.head()"
   ]
  },
  {
   "cell_type": "code",
   "execution_count": 22,
   "metadata": {},
   "outputs": [],
   "source": [
    "X = df.drop(columns='class')\n",
    "y = df['class']"
   ]
  },
  {
   "cell_type": "code",
   "execution_count": 23,
   "metadata": {},
   "outputs": [
    {
     "data": {
      "text/html": [
       "<div>\n",
       "<style scoped>\n",
       "    .dataframe tbody tr th:only-of-type {\n",
       "        vertical-align: middle;\n",
       "    }\n",
       "\n",
       "    .dataframe tbody tr th {\n",
       "        vertical-align: top;\n",
       "    }\n",
       "\n",
       "    .dataframe thead th {\n",
       "        text-align: right;\n",
       "    }\n",
       "</style>\n",
       "<table border=\"1\" class=\"dataframe\">\n",
       "  <thead>\n",
       "    <tr style=\"text-align: right;\">\n",
       "      <th></th>\n",
       "      <th>cap-shape</th>\n",
       "      <th>cap-surface</th>\n",
       "      <th>cap-color</th>\n",
       "      <th>bruises</th>\n",
       "      <th>odor</th>\n",
       "      <th>gill-attachment</th>\n",
       "      <th>gill-spacing</th>\n",
       "      <th>gill-size</th>\n",
       "      <th>gill-color</th>\n",
       "      <th>stalk-shape</th>\n",
       "      <th>...</th>\n",
       "      <th>stalk-surface-below-ring</th>\n",
       "      <th>stalk-color-above-ring</th>\n",
       "      <th>stalk-color-below-ring</th>\n",
       "      <th>veil-type</th>\n",
       "      <th>veil-color</th>\n",
       "      <th>ring-number</th>\n",
       "      <th>ring-type</th>\n",
       "      <th>spore-print-color</th>\n",
       "      <th>population</th>\n",
       "      <th>habitat</th>\n",
       "    </tr>\n",
       "  </thead>\n",
       "  <tbody>\n",
       "    <tr>\n",
       "      <th>0</th>\n",
       "      <td>5</td>\n",
       "      <td>2</td>\n",
       "      <td>4</td>\n",
       "      <td>1</td>\n",
       "      <td>6</td>\n",
       "      <td>1</td>\n",
       "      <td>0</td>\n",
       "      <td>1</td>\n",
       "      <td>4</td>\n",
       "      <td>0</td>\n",
       "      <td>...</td>\n",
       "      <td>2</td>\n",
       "      <td>7</td>\n",
       "      <td>7</td>\n",
       "      <td>0</td>\n",
       "      <td>2</td>\n",
       "      <td>1</td>\n",
       "      <td>4</td>\n",
       "      <td>2</td>\n",
       "      <td>3</td>\n",
       "      <td>5</td>\n",
       "    </tr>\n",
       "    <tr>\n",
       "      <th>1</th>\n",
       "      <td>5</td>\n",
       "      <td>2</td>\n",
       "      <td>9</td>\n",
       "      <td>1</td>\n",
       "      <td>0</td>\n",
       "      <td>1</td>\n",
       "      <td>0</td>\n",
       "      <td>0</td>\n",
       "      <td>4</td>\n",
       "      <td>0</td>\n",
       "      <td>...</td>\n",
       "      <td>2</td>\n",
       "      <td>7</td>\n",
       "      <td>7</td>\n",
       "      <td>0</td>\n",
       "      <td>2</td>\n",
       "      <td>1</td>\n",
       "      <td>4</td>\n",
       "      <td>3</td>\n",
       "      <td>2</td>\n",
       "      <td>1</td>\n",
       "    </tr>\n",
       "    <tr>\n",
       "      <th>2</th>\n",
       "      <td>0</td>\n",
       "      <td>2</td>\n",
       "      <td>8</td>\n",
       "      <td>1</td>\n",
       "      <td>3</td>\n",
       "      <td>1</td>\n",
       "      <td>0</td>\n",
       "      <td>0</td>\n",
       "      <td>5</td>\n",
       "      <td>0</td>\n",
       "      <td>...</td>\n",
       "      <td>2</td>\n",
       "      <td>7</td>\n",
       "      <td>7</td>\n",
       "      <td>0</td>\n",
       "      <td>2</td>\n",
       "      <td>1</td>\n",
       "      <td>4</td>\n",
       "      <td>3</td>\n",
       "      <td>2</td>\n",
       "      <td>3</td>\n",
       "    </tr>\n",
       "  </tbody>\n",
       "</table>\n",
       "<p>3 rows × 22 columns</p>\n",
       "</div>"
      ],
      "text/plain": [
       "   cap-shape  cap-surface  cap-color  bruises  odor  gill-attachment  \\\n",
       "0          5            2          4        1     6                1   \n",
       "1          5            2          9        1     0                1   \n",
       "2          0            2          8        1     3                1   \n",
       "\n",
       "   gill-spacing  gill-size  gill-color  stalk-shape  ...  \\\n",
       "0             0          1           4            0  ...   \n",
       "1             0          0           4            0  ...   \n",
       "2             0          0           5            0  ...   \n",
       "\n",
       "   stalk-surface-below-ring  stalk-color-above-ring  stalk-color-below-ring  \\\n",
       "0                         2                       7                       7   \n",
       "1                         2                       7                       7   \n",
       "2                         2                       7                       7   \n",
       "\n",
       "   veil-type  veil-color  ring-number  ring-type  spore-print-color  \\\n",
       "0          0           2            1          4                  2   \n",
       "1          0           2            1          4                  3   \n",
       "2          0           2            1          4                  3   \n",
       "\n",
       "   population  habitat  \n",
       "0           3        5  \n",
       "1           2        1  \n",
       "2           2        3  \n",
       "\n",
       "[3 rows x 22 columns]"
      ]
     },
     "execution_count": 23,
     "metadata": {},
     "output_type": "execute_result"
    }
   ],
   "source": [
    "X.head(3)"
   ]
  },
  {
   "cell_type": "code",
   "execution_count": 24,
   "metadata": {},
   "outputs": [
    {
     "data": {
      "text/plain": [
       "0    1\n",
       "1    0\n",
       "2    0\n",
       "Name: class, dtype: int32"
      ]
     },
     "execution_count": 24,
     "metadata": {},
     "output_type": "execute_result"
    }
   ],
   "source": [
    "y.head(3)"
   ]
  },
  {
   "cell_type": "code",
   "execution_count": 25,
   "metadata": {},
   "outputs": [],
   "source": [
    "from sklearn.model_selection import train_test_split\n",
    "x_train, x_test, y_train, y_test = train_test_split(X , y, test_size=0.25, shuffle=True, random_state=69)"
   ]
  },
  {
   "cell_type": "code",
   "execution_count": 26,
   "metadata": {},
   "outputs": [
    {
     "data": {
      "text/plain": [
       "(6093, 22)"
      ]
     },
     "execution_count": 26,
     "metadata": {},
     "output_type": "execute_result"
    }
   ],
   "source": [
    "x_train.shape"
   ]
  },
  {
   "cell_type": "code",
   "execution_count": 27,
   "metadata": {},
   "outputs": [
    {
     "name": "stdout",
     "output_type": "stream",
     "text": [
      "7551    1\n",
      "6671    1\n",
      "2346    0\n",
      "1115    0\n",
      "4179    0\n",
      "Name: class, dtype: int32\n",
      "[[0. 1.]\n",
      " [0. 1.]\n",
      " [1. 0.]\n",
      " [1. 0.]\n",
      " [1. 0.]]\n"
     ]
    }
   ],
   "source": [
    "print(y_train[:5])\n",
    "\n",
    "y_train = keras.utils.to_categorical(y_train, num_classes=2)\n",
    "\n",
    "print(y_train[:5])"
   ]
  },
  {
   "cell_type": "code",
   "execution_count": 28,
   "metadata": {},
   "outputs": [],
   "source": [
    "from keras.models import Sequential\n",
    "from keras.layers import Dense, Dropout"
   ]
  },
  {
   "cell_type": "code",
   "execution_count": 29,
   "metadata": {},
   "outputs": [
    {
     "name": "stderr",
     "output_type": "stream",
     "text": [
      "c:\\Users\\malak\\AppData\\Local\\Programs\\Python\\Python311\\Lib\\site-packages\\keras\\src\\layers\\core\\dense.py:86: UserWarning: Do not pass an `input_shape`/`input_dim` argument to a layer. When using Sequential models, prefer using an `Input(shape)` object as the first layer in the model instead.\n",
      "  super().__init__(activity_regularizer=activity_regularizer, **kwargs)\n"
     ]
    }
   ],
   "source": [
    "model = Sequential()\n",
    "model.add(Dense(units=32, activation='relu', input_shape=(x_train.shape[1],)))\n",
    "model.add(Dense(units=32, activation='relu'))\n",
    "model.add(Dropout(0.50))\n",
    "model.add(Dense(units=32, activation='relu'))\n",
    "model.add(Dropout(0.5))\n",
    "model.add(Dense(units=2, activation='softmax'))"
   ]
  },
  {
   "cell_type": "code",
   "execution_count": 30,
   "metadata": {},
   "outputs": [
    {
     "data": {
      "text/html": [
       "<pre style=\"white-space:pre;overflow-x:auto;line-height:normal;font-family:Menlo,'DejaVu Sans Mono',consolas,'Courier New',monospace\"><span style=\"font-weight: bold\">Model: \"sequential_1\"</span>\n",
       "</pre>\n"
      ],
      "text/plain": [
       "\u001b[1mModel: \"sequential_1\"\u001b[0m\n"
      ]
     },
     "metadata": {},
     "output_type": "display_data"
    },
    {
     "data": {
      "text/html": [
       "<pre style=\"white-space:pre;overflow-x:auto;line-height:normal;font-family:Menlo,'DejaVu Sans Mono',consolas,'Courier New',monospace\">┏━━━━━━━━━━━━━━━━━━━━━━━━━━━━━━━━━┳━━━━━━━━━━━━━━━━━━━━━━━━┳━━━━━━━━━━━━━━━┓\n",
       "┃<span style=\"font-weight: bold\"> Layer (type)                    </span>┃<span style=\"font-weight: bold\"> Output Shape           </span>┃<span style=\"font-weight: bold\">       Param # </span>┃\n",
       "┡━━━━━━━━━━━━━━━━━━━━━━━━━━━━━━━━━╇━━━━━━━━━━━━━━━━━━━━━━━━╇━━━━━━━━━━━━━━━┩\n",
       "│ dense (<span style=\"color: #0087ff; text-decoration-color: #0087ff\">Dense</span>)                   │ (<span style=\"color: #00d7ff; text-decoration-color: #00d7ff\">None</span>, <span style=\"color: #00af00; text-decoration-color: #00af00\">32</span>)             │           <span style=\"color: #00af00; text-decoration-color: #00af00\">736</span> │\n",
       "├─────────────────────────────────┼────────────────────────┼───────────────┤\n",
       "│ dense_1 (<span style=\"color: #0087ff; text-decoration-color: #0087ff\">Dense</span>)                 │ (<span style=\"color: #00d7ff; text-decoration-color: #00d7ff\">None</span>, <span style=\"color: #00af00; text-decoration-color: #00af00\">32</span>)             │         <span style=\"color: #00af00; text-decoration-color: #00af00\">1,056</span> │\n",
       "├─────────────────────────────────┼────────────────────────┼───────────────┤\n",
       "│ dropout (<span style=\"color: #0087ff; text-decoration-color: #0087ff\">Dropout</span>)               │ (<span style=\"color: #00d7ff; text-decoration-color: #00d7ff\">None</span>, <span style=\"color: #00af00; text-decoration-color: #00af00\">32</span>)             │             <span style=\"color: #00af00; text-decoration-color: #00af00\">0</span> │\n",
       "├─────────────────────────────────┼────────────────────────┼───────────────┤\n",
       "│ dense_2 (<span style=\"color: #0087ff; text-decoration-color: #0087ff\">Dense</span>)                 │ (<span style=\"color: #00d7ff; text-decoration-color: #00d7ff\">None</span>, <span style=\"color: #00af00; text-decoration-color: #00af00\">32</span>)             │         <span style=\"color: #00af00; text-decoration-color: #00af00\">1,056</span> │\n",
       "├─────────────────────────────────┼────────────────────────┼───────────────┤\n",
       "│ dropout_1 (<span style=\"color: #0087ff; text-decoration-color: #0087ff\">Dropout</span>)             │ (<span style=\"color: #00d7ff; text-decoration-color: #00d7ff\">None</span>, <span style=\"color: #00af00; text-decoration-color: #00af00\">32</span>)             │             <span style=\"color: #00af00; text-decoration-color: #00af00\">0</span> │\n",
       "├─────────────────────────────────┼────────────────────────┼───────────────┤\n",
       "│ dense_3 (<span style=\"color: #0087ff; text-decoration-color: #0087ff\">Dense</span>)                 │ (<span style=\"color: #00d7ff; text-decoration-color: #00d7ff\">None</span>, <span style=\"color: #00af00; text-decoration-color: #00af00\">2</span>)              │            <span style=\"color: #00af00; text-decoration-color: #00af00\">66</span> │\n",
       "└─────────────────────────────────┴────────────────────────┴───────────────┘\n",
       "</pre>\n"
      ],
      "text/plain": [
       "┏━━━━━━━━━━━━━━━━━━━━━━━━━━━━━━━━━┳━━━━━━━━━━━━━━━━━━━━━━━━┳━━━━━━━━━━━━━━━┓\n",
       "┃\u001b[1m \u001b[0m\u001b[1mLayer (type)                   \u001b[0m\u001b[1m \u001b[0m┃\u001b[1m \u001b[0m\u001b[1mOutput Shape          \u001b[0m\u001b[1m \u001b[0m┃\u001b[1m \u001b[0m\u001b[1m      Param #\u001b[0m\u001b[1m \u001b[0m┃\n",
       "┡━━━━━━━━━━━━━━━━━━━━━━━━━━━━━━━━━╇━━━━━━━━━━━━━━━━━━━━━━━━╇━━━━━━━━━━━━━━━┩\n",
       "│ dense (\u001b[38;5;33mDense\u001b[0m)                   │ (\u001b[38;5;45mNone\u001b[0m, \u001b[38;5;34m32\u001b[0m)             │           \u001b[38;5;34m736\u001b[0m │\n",
       "├─────────────────────────────────┼────────────────────────┼───────────────┤\n",
       "│ dense_1 (\u001b[38;5;33mDense\u001b[0m)                 │ (\u001b[38;5;45mNone\u001b[0m, \u001b[38;5;34m32\u001b[0m)             │         \u001b[38;5;34m1,056\u001b[0m │\n",
       "├─────────────────────────────────┼────────────────────────┼───────────────┤\n",
       "│ dropout (\u001b[38;5;33mDropout\u001b[0m)               │ (\u001b[38;5;45mNone\u001b[0m, \u001b[38;5;34m32\u001b[0m)             │             \u001b[38;5;34m0\u001b[0m │\n",
       "├─────────────────────────────────┼────────────────────────┼───────────────┤\n",
       "│ dense_2 (\u001b[38;5;33mDense\u001b[0m)                 │ (\u001b[38;5;45mNone\u001b[0m, \u001b[38;5;34m32\u001b[0m)             │         \u001b[38;5;34m1,056\u001b[0m │\n",
       "├─────────────────────────────────┼────────────────────────┼───────────────┤\n",
       "│ dropout_1 (\u001b[38;5;33mDropout\u001b[0m)             │ (\u001b[38;5;45mNone\u001b[0m, \u001b[38;5;34m32\u001b[0m)             │             \u001b[38;5;34m0\u001b[0m │\n",
       "├─────────────────────────────────┼────────────────────────┼───────────────┤\n",
       "│ dense_3 (\u001b[38;5;33mDense\u001b[0m)                 │ (\u001b[38;5;45mNone\u001b[0m, \u001b[38;5;34m2\u001b[0m)              │            \u001b[38;5;34m66\u001b[0m │\n",
       "└─────────────────────────────────┴────────────────────────┴───────────────┘\n"
      ]
     },
     "metadata": {},
     "output_type": "display_data"
    },
    {
     "data": {
      "text/html": [
       "<pre style=\"white-space:pre;overflow-x:auto;line-height:normal;font-family:Menlo,'DejaVu Sans Mono',consolas,'Courier New',monospace\"><span style=\"font-weight: bold\"> Total params: </span><span style=\"color: #00af00; text-decoration-color: #00af00\">2,914</span> (11.38 KB)\n",
       "</pre>\n"
      ],
      "text/plain": [
       "\u001b[1m Total params: \u001b[0m\u001b[38;5;34m2,914\u001b[0m (11.38 KB)\n"
      ]
     },
     "metadata": {},
     "output_type": "display_data"
    },
    {
     "data": {
      "text/html": [
       "<pre style=\"white-space:pre;overflow-x:auto;line-height:normal;font-family:Menlo,'DejaVu Sans Mono',consolas,'Courier New',monospace\"><span style=\"font-weight: bold\"> Trainable params: </span><span style=\"color: #00af00; text-decoration-color: #00af00\">2,914</span> (11.38 KB)\n",
       "</pre>\n"
      ],
      "text/plain": [
       "\u001b[1m Trainable params: \u001b[0m\u001b[38;5;34m2,914\u001b[0m (11.38 KB)\n"
      ]
     },
     "metadata": {},
     "output_type": "display_data"
    },
    {
     "data": {
      "text/html": [
       "<pre style=\"white-space:pre;overflow-x:auto;line-height:normal;font-family:Menlo,'DejaVu Sans Mono',consolas,'Courier New',monospace\"><span style=\"font-weight: bold\"> Non-trainable params: </span><span style=\"color: #00af00; text-decoration-color: #00af00\">0</span> (0.00 B)\n",
       "</pre>\n"
      ],
      "text/plain": [
       "\u001b[1m Non-trainable params: \u001b[0m\u001b[38;5;34m0\u001b[0m (0.00 B)\n"
      ]
     },
     "metadata": {},
     "output_type": "display_data"
    }
   ],
   "source": [
    "model.compile(optimizer='Adam', loss='categorical_crossentropy', metrics=['accuracy'])\n",
    "model.summary()"
   ]
  },
  {
   "cell_type": "code",
   "execution_count": 31,
   "metadata": {},
   "outputs": [
    {
     "name": "stdout",
     "output_type": "stream",
     "text": [
      "Epoch 1/100\n",
      "10/10 - 4s - 381ms/step - accuracy: 0.5423 - loss: 1.0224 - val_accuracy: 0.7473 - val_loss: 0.5987\n",
      "Epoch 2/100\n",
      "10/10 - 0s - 18ms/step - accuracy: 0.6005 - loss: 0.7624 - val_accuracy: 0.7580 - val_loss: 0.5543\n",
      "Epoch 3/100\n",
      "10/10 - 0s - 14ms/step - accuracy: 0.6313 - loss: 0.6630 - val_accuracy: 0.8015 - val_loss: 0.5062\n",
      "Epoch 4/100\n",
      "10/10 - 0s - 14ms/step - accuracy: 0.6908 - loss: 0.5863 - val_accuracy: 0.8335 - val_loss: 0.4587\n",
      "Epoch 5/100\n",
      "10/10 - 0s - 17ms/step - accuracy: 0.7290 - loss: 0.5307 - val_accuracy: 0.8548 - val_loss: 0.4149\n",
      "Epoch 6/100\n",
      "10/10 - 0s - 17ms/step - accuracy: 0.7435 - loss: 0.5061 - val_accuracy: 0.8687 - val_loss: 0.3774\n",
      "Epoch 7/100\n",
      "10/10 - 0s - 25ms/step - accuracy: 0.7743 - loss: 0.4621 - val_accuracy: 0.8852 - val_loss: 0.3412\n",
      "Epoch 8/100\n",
      "10/10 - 0s - 25ms/step - accuracy: 0.8037 - loss: 0.4282 - val_accuracy: 0.8958 - val_loss: 0.3063\n",
      "Epoch 9/100\n",
      "10/10 - 0s - 34ms/step - accuracy: 0.8275 - loss: 0.3856 - val_accuracy: 0.9007 - val_loss: 0.2772\n",
      "Epoch 10/100\n",
      "10/10 - 0s - 32ms/step - accuracy: 0.8412 - loss: 0.3638 - val_accuracy: 0.9139 - val_loss: 0.2551\n",
      "Epoch 11/100\n",
      "10/10 - 0s - 20ms/step - accuracy: 0.8482 - loss: 0.3484 - val_accuracy: 0.9081 - val_loss: 0.2336\n",
      "Epoch 12/100\n",
      "10/10 - 0s - 32ms/step - accuracy: 0.8484 - loss: 0.3256 - val_accuracy: 0.9180 - val_loss: 0.2150\n",
      "Epoch 13/100\n",
      "10/10 - 0s - 33ms/step - accuracy: 0.8677 - loss: 0.3078 - val_accuracy: 0.9196 - val_loss: 0.2016\n",
      "Epoch 14/100\n",
      "10/10 - 0s - 35ms/step - accuracy: 0.8820 - loss: 0.2857 - val_accuracy: 0.9237 - val_loss: 0.1926\n",
      "Epoch 15/100\n",
      "10/10 - 0s - 33ms/step - accuracy: 0.8831 - loss: 0.2775 - val_accuracy: 0.9253 - val_loss: 0.1786\n",
      "Epoch 16/100\n",
      "10/10 - 0s - 25ms/step - accuracy: 0.8937 - loss: 0.2581 - val_accuracy: 0.9327 - val_loss: 0.1668\n",
      "Epoch 17/100\n",
      "10/10 - 0s - 36ms/step - accuracy: 0.8937 - loss: 0.2512 - val_accuracy: 0.9352 - val_loss: 0.1574\n",
      "Epoch 18/100\n",
      "10/10 - 0s - 16ms/step - accuracy: 0.8989 - loss: 0.2456 - val_accuracy: 0.9377 - val_loss: 0.1527\n",
      "Epoch 19/100\n",
      "10/10 - 0s - 31ms/step - accuracy: 0.9069 - loss: 0.2342 - val_accuracy: 0.9409 - val_loss: 0.1454\n",
      "Epoch 20/100\n",
      "10/10 - 0s - 36ms/step - accuracy: 0.9064 - loss: 0.2219 - val_accuracy: 0.9434 - val_loss: 0.1375\n",
      "Epoch 21/100\n",
      "10/10 - 0s - 35ms/step - accuracy: 0.9144 - loss: 0.2113 - val_accuracy: 0.9491 - val_loss: 0.1287\n",
      "Epoch 22/100\n",
      "10/10 - 0s - 34ms/step - accuracy: 0.9208 - loss: 0.1934 - val_accuracy: 0.9557 - val_loss: 0.1200\n",
      "Epoch 23/100\n",
      "10/10 - 0s - 35ms/step - accuracy: 0.9210 - loss: 0.1995 - val_accuracy: 0.9516 - val_loss: 0.1182\n",
      "Epoch 24/100\n",
      "10/10 - 0s - 33ms/step - accuracy: 0.9309 - loss: 0.1791 - val_accuracy: 0.9582 - val_loss: 0.1105\n",
      "Epoch 25/100\n",
      "10/10 - 0s - 32ms/step - accuracy: 0.9358 - loss: 0.1732 - val_accuracy: 0.9655 - val_loss: 0.1008\n",
      "Epoch 26/100\n",
      "10/10 - 0s - 32ms/step - accuracy: 0.9364 - loss: 0.1688 - val_accuracy: 0.9639 - val_loss: 0.0955\n",
      "Epoch 27/100\n",
      "10/10 - 0s - 29ms/step - accuracy: 0.9411 - loss: 0.1534 - val_accuracy: 0.9705 - val_loss: 0.0850\n",
      "Epoch 28/100\n",
      "10/10 - 0s - 15ms/step - accuracy: 0.9432 - loss: 0.1489 - val_accuracy: 0.9713 - val_loss: 0.0770\n",
      "Epoch 29/100\n",
      "10/10 - 0s - 16ms/step - accuracy: 0.9508 - loss: 0.1370 - val_accuracy: 0.9762 - val_loss: 0.0740\n",
      "Epoch 30/100\n",
      "10/10 - 0s - 17ms/step - accuracy: 0.9503 - loss: 0.1431 - val_accuracy: 0.9811 - val_loss: 0.0672\n",
      "Epoch 31/100\n",
      "10/10 - 0s - 16ms/step - accuracy: 0.9588 - loss: 0.1217 - val_accuracy: 0.9861 - val_loss: 0.0562\n",
      "Epoch 32/100\n",
      "10/10 - 0s - 14ms/step - accuracy: 0.9575 - loss: 0.1176 - val_accuracy: 0.9885 - val_loss: 0.0563\n",
      "Epoch 33/100\n",
      "10/10 - 0s - 14ms/step - accuracy: 0.9598 - loss: 0.1176 - val_accuracy: 0.9852 - val_loss: 0.0522\n",
      "Epoch 34/100\n",
      "10/10 - 0s - 17ms/step - accuracy: 0.9625 - loss: 0.1058 - val_accuracy: 0.9869 - val_loss: 0.0464\n",
      "Epoch 35/100\n",
      "10/10 - 0s - 16ms/step - accuracy: 0.9596 - loss: 0.1040 - val_accuracy: 0.9934 - val_loss: 0.0389\n",
      "Epoch 36/100\n",
      "10/10 - 0s - 17ms/step - accuracy: 0.9676 - loss: 0.0914 - val_accuracy: 0.9877 - val_loss: 0.0406\n",
      "Epoch 37/100\n",
      "10/10 - 0s - 17ms/step - accuracy: 0.9645 - loss: 0.0938 - val_accuracy: 0.9918 - val_loss: 0.0349\n",
      "Epoch 38/100\n",
      "10/10 - 0s - 16ms/step - accuracy: 0.9705 - loss: 0.0916 - val_accuracy: 0.9934 - val_loss: 0.0301\n",
      "Epoch 39/100\n",
      "10/10 - 0s - 16ms/step - accuracy: 0.9711 - loss: 0.0800 - val_accuracy: 0.9934 - val_loss: 0.0288\n",
      "Epoch 40/100\n",
      "10/10 - 0s - 17ms/step - accuracy: 0.9750 - loss: 0.0750 - val_accuracy: 0.9951 - val_loss: 0.0250\n",
      "Epoch 41/100\n",
      "10/10 - 0s - 16ms/step - accuracy: 0.9780 - loss: 0.0727 - val_accuracy: 0.9951 - val_loss: 0.0226\n",
      "Epoch 42/100\n",
      "10/10 - 0s - 16ms/step - accuracy: 0.9813 - loss: 0.0653 - val_accuracy: 0.9951 - val_loss: 0.0192\n",
      "Epoch 43/100\n",
      "10/10 - 0s - 16ms/step - accuracy: 0.9787 - loss: 0.0628 - val_accuracy: 0.9951 - val_loss: 0.0230\n",
      "Epoch 44/100\n",
      "10/10 - 0s - 15ms/step - accuracy: 0.9780 - loss: 0.0675 - val_accuracy: 0.9951 - val_loss: 0.0184\n",
      "Epoch 45/100\n",
      "10/10 - 0s - 16ms/step - accuracy: 0.9805 - loss: 0.0620 - val_accuracy: 0.9975 - val_loss: 0.0149\n",
      "Epoch 46/100\n",
      "10/10 - 0s - 17ms/step - accuracy: 0.9822 - loss: 0.0578 - val_accuracy: 0.9975 - val_loss: 0.0147\n",
      "Epoch 47/100\n",
      "10/10 - 0s - 18ms/step - accuracy: 0.9824 - loss: 0.0595 - val_accuracy: 0.9984 - val_loss: 0.0163\n",
      "Epoch 48/100\n",
      "10/10 - 0s - 17ms/step - accuracy: 0.9826 - loss: 0.0556 - val_accuracy: 0.9959 - val_loss: 0.0144\n",
      "Epoch 49/100\n",
      "10/10 - 0s - 18ms/step - accuracy: 0.9815 - loss: 0.0518 - val_accuracy: 0.9984 - val_loss: 0.0121\n",
      "Epoch 50/100\n",
      "10/10 - 0s - 22ms/step - accuracy: 0.9819 - loss: 0.0520 - val_accuracy: 0.9984 - val_loss: 0.0143\n",
      "Epoch 51/100\n",
      "10/10 - 0s - 30ms/step - accuracy: 0.9846 - loss: 0.0446 - val_accuracy: 0.9975 - val_loss: 0.0106\n",
      "Epoch 52/100\n",
      "10/10 - 0s - 31ms/step - accuracy: 0.9854 - loss: 0.0474 - val_accuracy: 0.9984 - val_loss: 0.0102\n",
      "Epoch 53/100\n",
      "10/10 - 0s - 39ms/step - accuracy: 0.9860 - loss: 0.0469 - val_accuracy: 0.9984 - val_loss: 0.0099\n",
      "Epoch 54/100\n",
      "10/10 - 0s - 32ms/step - accuracy: 0.9848 - loss: 0.0438 - val_accuracy: 0.9992 - val_loss: 0.0089\n",
      "Epoch 55/100\n",
      "10/10 - 0s - 33ms/step - accuracy: 0.9842 - loss: 0.0446 - val_accuracy: 0.9975 - val_loss: 0.0114\n",
      "Epoch 56/100\n",
      "10/10 - 0s - 30ms/step - accuracy: 0.9822 - loss: 0.0496 - val_accuracy: 0.9943 - val_loss: 0.0160\n",
      "Epoch 57/100\n",
      "10/10 - 0s - 23ms/step - accuracy: 0.9856 - loss: 0.0396 - val_accuracy: 0.9984 - val_loss: 0.0105\n",
      "Epoch 58/100\n",
      "10/10 - 0s - 20ms/step - accuracy: 0.9893 - loss: 0.0375 - val_accuracy: 0.9984 - val_loss: 0.0089\n",
      "Epoch 59/100\n",
      "10/10 - 0s - 20ms/step - accuracy: 0.9865 - loss: 0.0386 - val_accuracy: 0.9984 - val_loss: 0.0078\n",
      "Epoch 60/100\n",
      "10/10 - 0s - 17ms/step - accuracy: 0.9858 - loss: 0.0383 - val_accuracy: 0.9984 - val_loss: 0.0086\n",
      "Epoch 61/100\n",
      "10/10 - 0s - 14ms/step - accuracy: 0.9871 - loss: 0.0377 - val_accuracy: 0.9984 - val_loss: 0.0080\n",
      "Epoch 62/100\n",
      "10/10 - 0s - 14ms/step - accuracy: 0.9899 - loss: 0.0311 - val_accuracy: 0.9992 - val_loss: 0.0065\n",
      "Epoch 63/100\n",
      "10/10 - 0s - 13ms/step - accuracy: 0.9885 - loss: 0.0340 - val_accuracy: 0.9992 - val_loss: 0.0069\n",
      "Epoch 64/100\n",
      "10/10 - 0s - 15ms/step - accuracy: 0.9904 - loss: 0.0316 - val_accuracy: 0.9984 - val_loss: 0.0067\n",
      "Epoch 65/100\n",
      "10/10 - 0s - 38ms/step - accuracy: 0.9883 - loss: 0.0308 - val_accuracy: 0.9992 - val_loss: 0.0061\n",
      "Epoch 66/100\n",
      "10/10 - 0s - 15ms/step - accuracy: 0.9904 - loss: 0.0295 - val_accuracy: 0.9992 - val_loss: 0.0065\n",
      "Epoch 67/100\n",
      "10/10 - 0s - 17ms/step - accuracy: 0.9897 - loss: 0.0292 - val_accuracy: 0.9992 - val_loss: 0.0051\n",
      "Epoch 68/100\n",
      "10/10 - 0s - 20ms/step - accuracy: 0.9918 - loss: 0.0246 - val_accuracy: 0.9975 - val_loss: 0.0054\n",
      "Epoch 69/100\n",
      "10/10 - 0s - 17ms/step - accuracy: 0.9914 - loss: 0.0271 - val_accuracy: 0.9984 - val_loss: 0.0068\n",
      "Epoch 70/100\n",
      "10/10 - 0s - 23ms/step - accuracy: 0.9899 - loss: 0.0275 - val_accuracy: 1.0000 - val_loss: 0.0044\n",
      "Epoch 71/100\n",
      "10/10 - 0s - 20ms/step - accuracy: 0.9916 - loss: 0.0248 - val_accuracy: 0.9992 - val_loss: 0.0046\n",
      "Epoch 72/100\n",
      "10/10 - 0s - 28ms/step - accuracy: 0.9930 - loss: 0.0231 - val_accuracy: 0.9992 - val_loss: 0.0041\n",
      "Epoch 73/100\n",
      "10/10 - 0s - 21ms/step - accuracy: 0.9904 - loss: 0.0243 - val_accuracy: 0.9992 - val_loss: 0.0031\n",
      "Epoch 74/100\n",
      "10/10 - 0s - 19ms/step - accuracy: 0.9908 - loss: 0.0255 - val_accuracy: 0.9992 - val_loss: 0.0042\n",
      "Epoch 75/100\n",
      "10/10 - 0s - 20ms/step - accuracy: 0.9893 - loss: 0.0262 - val_accuracy: 0.9992 - val_loss: 0.0044\n",
      "Epoch 76/100\n",
      "10/10 - 0s - 20ms/step - accuracy: 0.9895 - loss: 0.0251 - val_accuracy: 0.9984 - val_loss: 0.0062\n",
      "Epoch 77/100\n",
      "10/10 - 0s - 20ms/step - accuracy: 0.9924 - loss: 0.0216 - val_accuracy: 1.0000 - val_loss: 0.0032\n",
      "Epoch 78/100\n",
      "10/10 - 0s - 19ms/step - accuracy: 0.9916 - loss: 0.0234 - val_accuracy: 0.9992 - val_loss: 0.0032\n",
      "Epoch 79/100\n",
      "10/10 - 0s - 17ms/step - accuracy: 0.9928 - loss: 0.0205 - val_accuracy: 0.9992 - val_loss: 0.0054\n",
      "Epoch 80/100\n",
      "10/10 - 0s - 17ms/step - accuracy: 0.9904 - loss: 0.0221 - val_accuracy: 0.9992 - val_loss: 0.0034\n",
      "Epoch 81/100\n",
      "10/10 - 0s - 16ms/step - accuracy: 0.9910 - loss: 0.0231 - val_accuracy: 0.9992 - val_loss: 0.0038\n",
      "Epoch 82/100\n",
      "10/10 - 0s - 16ms/step - accuracy: 0.9945 - loss: 0.0167 - val_accuracy: 0.9992 - val_loss: 0.0027\n",
      "Epoch 83/100\n",
      "10/10 - 0s - 16ms/step - accuracy: 0.9938 - loss: 0.0199 - val_accuracy: 1.0000 - val_loss: 0.0024\n",
      "Epoch 84/100\n",
      "10/10 - 0s - 17ms/step - accuracy: 0.9955 - loss: 0.0166 - val_accuracy: 0.9992 - val_loss: 0.0045\n",
      "Epoch 85/100\n",
      "10/10 - 0s - 18ms/step - accuracy: 0.9941 - loss: 0.0188 - val_accuracy: 0.9992 - val_loss: 0.0024\n",
      "Epoch 86/100\n",
      "10/10 - 0s - 14ms/step - accuracy: 0.9943 - loss: 0.0161 - val_accuracy: 1.0000 - val_loss: 0.0018\n",
      "Epoch 87/100\n",
      "10/10 - 0s - 17ms/step - accuracy: 0.9934 - loss: 0.0172 - val_accuracy: 0.9992 - val_loss: 0.0038\n",
      "Epoch 88/100\n",
      "10/10 - 0s - 16ms/step - accuracy: 0.9957 - loss: 0.0139 - val_accuracy: 1.0000 - val_loss: 0.0017\n",
      "Epoch 89/100\n",
      "10/10 - 0s - 16ms/step - accuracy: 0.9936 - loss: 0.0170 - val_accuracy: 1.0000 - val_loss: 0.0015\n",
      "Epoch 90/100\n",
      "10/10 - 0s - 16ms/step - accuracy: 0.9945 - loss: 0.0159 - val_accuracy: 0.9992 - val_loss: 0.0026\n",
      "Epoch 91/100\n",
      "10/10 - 0s - 16ms/step - accuracy: 0.9943 - loss: 0.0153 - val_accuracy: 1.0000 - val_loss: 0.0016\n",
      "Epoch 92/100\n",
      "10/10 - 0s - 17ms/step - accuracy: 0.9959 - loss: 0.0130 - val_accuracy: 0.9992 - val_loss: 0.0020\n",
      "Epoch 93/100\n",
      "10/10 - 0s - 18ms/step - accuracy: 0.9930 - loss: 0.0158 - val_accuracy: 0.9992 - val_loss: 0.0030\n",
      "Epoch 94/100\n",
      "10/10 - 0s - 17ms/step - accuracy: 0.9924 - loss: 0.0181 - val_accuracy: 0.9992 - val_loss: 0.0017\n",
      "Epoch 95/100\n",
      "10/10 - 0s - 17ms/step - accuracy: 0.9938 - loss: 0.0135 - val_accuracy: 1.0000 - val_loss: 0.0013\n",
      "Epoch 96/100\n",
      "10/10 - 0s - 17ms/step - accuracy: 0.9953 - loss: 0.0140 - val_accuracy: 0.9992 - val_loss: 0.0024\n",
      "Epoch 97/100\n",
      "10/10 - 0s - 16ms/step - accuracy: 0.9959 - loss: 0.0135 - val_accuracy: 0.9992 - val_loss: 0.0021\n",
      "Epoch 98/100\n",
      "10/10 - 0s - 20ms/step - accuracy: 0.9963 - loss: 0.0129 - val_accuracy: 1.0000 - val_loss: 0.0013\n",
      "Epoch 99/100\n",
      "10/10 - 0s - 18ms/step - accuracy: 0.9953 - loss: 0.0144 - val_accuracy: 1.0000 - val_loss: 8.6326e-04\n",
      "Epoch 100/100\n",
      "10/10 - 0s - 20ms/step - accuracy: 0.9945 - loss: 0.0121 - val_accuracy: 1.0000 - val_loss: 0.0010\n"
     ]
    },
    {
     "data": {
      "text/plain": [
       "<keras.src.callbacks.history.History at 0x18c8374ad10>"
      ]
     },
     "execution_count": 31,
     "metadata": {},
     "output_type": "execute_result"
    }
   ],
   "source": [
    "model.fit(x_train, y_train, batch_size=500, epochs=100, validation_split=0.2, verbose=2)"
   ]
  },
  {
   "cell_type": "code",
   "execution_count": 32,
   "metadata": {},
   "outputs": [
    {
     "name": "stdout",
     "output_type": "stream",
     "text": [
      "\u001b[1m64/64\u001b[0m \u001b[32m━━━━━━━━━━━━━━━━━━━━\u001b[0m\u001b[37m\u001b[0m \u001b[1m0s\u001b[0m 4ms/step\n",
      "[[9.9970180e-01 2.9813146e-04]\n",
      " [1.0000000e+00 1.7628250e-11]\n",
      " [2.1702169e-09 1.0000000e+00]\n",
      " [8.8223034e-10 1.0000000e+00]\n",
      " [1.7712214e-10 1.0000000e+00]]\n"
     ]
    }
   ],
   "source": [
    "prediction = model.predict(x_test)\n",
    "print(prediction[:5])"
   ]
  },
  {
   "cell_type": "code",
   "execution_count": 33,
   "metadata": {},
   "outputs": [
    {
     "name": "stdout",
     "output_type": "stream",
     "text": [
      "[0 0 1 1 1]\n"
     ]
    }
   ],
   "source": [
    "prediction = np.argmax(prediction, axis=-1)\n",
    "print(prediction[:5])"
   ]
  },
  {
   "cell_type": "code",
   "execution_count": 34,
   "metadata": {},
   "outputs": [],
   "source": [
    "from sklearn.metrics import accuracy_score, confusion_matrix"
   ]
  },
  {
   "cell_type": "code",
   "execution_count": 35,
   "metadata": {},
   "outputs": [
    {
     "name": "stdout",
     "output_type": "stream",
     "text": [
      "0.9980305268340719\n"
     ]
    }
   ],
   "source": [
    "ac_score = accuracy_score(y_test, prediction)\n",
    "print(ac_score)"
   ]
  },
  {
   "cell_type": "code",
   "execution_count": 36,
   "metadata": {},
   "outputs": [
    {
     "name": "stdout",
     "output_type": "stream",
     "text": [
      "[[1057    0]\n",
      " [   4  970]]\n"
     ]
    }
   ],
   "source": [
    "con_matrix = confusion_matrix(y_test, prediction)\n",
    "print(con_matrix)"
   ]
  },
  {
   "cell_type": "code",
   "execution_count": 37,
   "metadata": {},
   "outputs": [
    {
     "data": {
      "text/plain": [
       "Text(50.722222222222214, 0.5, 'actual')"
      ]
     },
     "execution_count": 37,
     "metadata": {},
     "output_type": "execute_result"
    },
    {
     "data": {
      "image/png": "[encoded data removed]",
      "text/plain": [
       "<Figure size 640x480 with 2 Axes>"
      ]
     },
     "metadata": {},
     "output_type": "display_data"
    }
   ],
   "source": [
    "label = ['edible','poisonous']\n",
    "ax = sns.heatmap(con_matrix, annot=True, fmt='d', cmap='Reds', xticklabels=label, yticklabels=label)\n",
    "ax.set_title('Confusion matrix for mushroom dataset')\n",
    "ax.set_xlabel('prediction', fontsize=14)\n",
    "ax.set_ylabel('actual', fontsize=14)"
   ]
  }
 ],
 "metadata": {
  "kernelspec": {
   "display_name": "Python 3",
   "language": "python",
   "name": "python3"
  },
  "language_info": {
   "codemirror_mode": {
    "name": "ipython",
    "version": 3
   },
   "file_extension": ".py",
   "mimetype": "text/x-python",
   "name": "python",
   "nbconvert_exporter": "python",
   "pygments_lexer": "ipython3",
   "version": "3.11.0"
  }
 },
 "nbformat": 4,
 "nbformat_minor": 2
}
